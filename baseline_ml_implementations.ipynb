{
 "cells": [
  {
   "cell_type": "markdown",
   "id": "9119e171",
   "metadata": {},
   "source": [
    "# Baseline Machine Learning (ML) algorithms\n",
    "As a means to measure the performance of our model we chose to compare our model's performance to that of a Logistic Regression and Naive Bayes implementation.\n",
    "This particular notebook was used to gather those results. To this end measure two variations of each ML algorithm: 1) TF-IDF tokenization with default preprocessing steps (removing any special chars), and 2) TF-IDF analysis with additional emoji encoding based on earlier work by Waseem and Hovy [2016] and Davidson et al. [2017]."
   ]
  },
  {
   "cell_type": "code",
   "execution_count": 32,
   "id": "16a5f6f2",
   "metadata": {
    "pycharm": {
     "is_executing": true
    }
   },
   "outputs": [],
   "source": [
    "import pprint\n",
    "import pandas as pd\n",
    "from time import time\n",
    "from sklearn.model_selection import train_test_split\n",
    "from sklearn.naive_bayes import MultinomialNB\n",
    "from sklearn.linear_model import LogisticRegression\n",
    "from sklearn.metrics import confusion_matrix\n",
    "from src.ou_ml import tiktok_text_processing as tttp\n",
    "from src.ou_ml import utils as mlu\n",
    "from sklearn.metrics import ConfusionMatrixDisplay\n",
    "from sklearn.feature_extraction.text import TfidfVectorizer\n"
   ]
  },
  {
   "cell_type": "markdown",
   "id": "bd961aa3",
   "metadata": {},
   "source": [
    "> We add some custom stopwords to the list that stem from textisms language [Rosen et al.,\n",
    "2010]."
   ]
  },
  {
   "cell_type": "code",
   "execution_count": 33,
   "id": "d043babb",
   "metadata": {},
   "outputs": [],
   "source": [
    "tttp.addStopwordsWithoutQuotes()"
   ]
  },
  {
   "cell_type": "code",
   "execution_count": 34,
   "id": "17781f98",
   "metadata": {},
   "outputs": [],
   "source": [
    "pp = pprint.PrettyPrinter(width = 41, compact = True)"
   ]
  },
  {
   "cell_type": "markdown",
   "id": "29c7f8e9",
   "metadata": {},
   "source": [
    "> We reference our own TikTok dataset next. Unfortunately, due to the TOS we are not able to publish this dataset"
   ]
  },
  {
   "cell_type": "code",
   "execution_count": 35,
   "id": "a709649e",
   "metadata": {},
   "outputs": [],
   "source": [
    "data = 'data/comments_anonymous.csv'\n",
    "\n",
    "df = pd.read_csv(data)"
   ]
  },
  {
   "cell_type": "code",
   "execution_count": 36,
   "id": "7448a941",
   "metadata": {},
   "outputs": [
    {
     "name": "stdout",
     "output_type": "stream",
     "text": [
      "<class 'pandas.core.frame.DataFrame'>\n",
      "RangeIndex: 4068 entries, 0 to 4067\n",
      "Data columns (total 3 columns):\n",
      " #   Column     Non-Null Count  Dtype \n",
      "---  ------     --------------  ----- \n",
      " 0   _id        4068 non-null   object\n",
      " 1   comment    4068 non-null   object\n",
      " 2   offensive  4068 non-null   int64 \n",
      "dtypes: int64(1), object(2)\n",
      "memory usage: 95.5+ KB\n"
     ]
    }
   ],
   "source": [
    "df.info()"
   ]
  },
  {
   "cell_type": "markdown",
   "id": "05f088b7",
   "metadata": {},
   "source": [
    "> Next we apply some default preproccesing steps, note that we replace emojis/emoticons by their textual representations before removing special characters"
   ]
  },
  {
   "cell_type": "code",
   "execution_count": 37,
   "id": "d41fbcf0",
   "metadata": {},
   "outputs": [],
   "source": [
    "df['comment'] = df['comment'].apply(tttp.replace_emoji_with_text)\n",
    "df['comment'] = df['comment'].apply(tttp.lower)\n",
    "df['comment'] = df['comment'].apply(tttp.clean_text)\n",
    "df['comment'] = df['comment'].apply(tttp.lemmatize_text)\n",
    "df['comment'] = df['comment'].apply(tttp.remove_Stopwords)\n",
    "df['comment'] = tttp.preprocess_special_chars(df['comment'])"
   ]
  },
  {
   "cell_type": "code",
   "execution_count": null,
   "id": "d09aca8e",
   "metadata": {},
   "outputs": [],
   "source": [
    "df.head(8) # View the first 8 records of our dataset"
   ]
  },
  {
   "cell_type": "code",
   "execution_count": 39,
   "id": "4302e73e",
   "metadata": {},
   "outputs": [],
   "source": [
    "# extract X and Y => X= subject (input), Y=training data (outcome)\n",
    "X = df.drop('offensive', axis = 1).drop('_id', axis = 1)\n",
    "Y = df['offensive']"
   ]
  },
  {
   "cell_type": "markdown",
   "id": "0a21703e",
   "metadata": {},
   "source": [
    "> We use the same train/test ratio for all our fine-tuned models (test size = 0.2)"
   ]
  },
  {
   "cell_type": "code",
   "execution_count": 40,
   "id": "2f7b71c1",
   "metadata": {},
   "outputs": [],
   "source": [
    "# settings that you use for count vectorizer will go here\n",
    "tfidf_vectorizer = TfidfVectorizer(use_idf = True) \n",
    "\n",
    "# just send in all your docs here \n",
    "tfidf_vectorizer_vectors = tfidf_vectorizer.fit_transform(df['comment'])"
   ]
  },
  {
   "cell_type": "code",
   "execution_count": 41,
   "id": "0a2e6093",
   "metadata": {},
   "outputs": [
    {
     "data": {
      "text/html": [
       "<div>\n",
       "<style scoped>\n",
       "    .dataframe tbody tr th:only-of-type {\n",
       "        vertical-align: middle;\n",
       "    }\n",
       "\n",
       "    .dataframe tbody tr th {\n",
       "        vertical-align: top;\n",
       "    }\n",
       "\n",
       "    .dataframe thead th {\n",
       "        text-align: right;\n",
       "    }\n",
       "</style>\n",
       "<table border=\"1\" class=\"dataframe\">\n",
       "  <thead>\n",
       "    <tr style=\"text-align: right;\">\n",
       "      <th></th>\n",
       "      <th>tfidf</th>\n",
       "    </tr>\n",
       "  </thead>\n",
       "  <tbody>\n",
       "    <tr>\n",
       "      <th>nubian</th>\n",
       "      <td>0.550782</td>\n",
       "    </tr>\n",
       "    <tr>\n",
       "      <th>arab</th>\n",
       "      <td>0.308155</td>\n",
       "    </tr>\n",
       "    <tr>\n",
       "      <th>egyptian</th>\n",
       "      <td>0.308155</td>\n",
       "    </tr>\n",
       "    <tr>\n",
       "      <th>aa</th>\n",
       "      <td>0.308155</td>\n",
       "    </tr>\n",
       "    <tr>\n",
       "      <th>tribe</th>\n",
       "      <td>0.293657</td>\n",
       "    </tr>\n",
       "    <tr>\n",
       "      <th>...</th>\n",
       "      <td>...</td>\n",
       "    </tr>\n",
       "    <tr>\n",
       "      <th>fantasy</th>\n",
       "      <td>0.000000</td>\n",
       "    </tr>\n",
       "    <tr>\n",
       "      <th>fantastic</th>\n",
       "      <td>0.000000</td>\n",
       "    </tr>\n",
       "    <tr>\n",
       "      <th>fancy</th>\n",
       "      <td>0.000000</td>\n",
       "    </tr>\n",
       "    <tr>\n",
       "      <th>fanatic</th>\n",
       "      <td>0.000000</td>\n",
       "    </tr>\n",
       "    <tr>\n",
       "      <th>𝙤𝙣</th>\n",
       "      <td>0.000000</td>\n",
       "    </tr>\n",
       "  </tbody>\n",
       "</table>\n",
       "<p>6007 rows × 1 columns</p>\n",
       "</div>"
      ],
      "text/plain": [
       "              tfidf\n",
       "nubian     0.550782\n",
       "arab       0.308155\n",
       "egyptian   0.308155\n",
       "aa         0.308155\n",
       "tribe      0.293657\n",
       "...             ...\n",
       "fantasy    0.000000\n",
       "fantastic  0.000000\n",
       "fancy      0.000000\n",
       "fanatic    0.000000\n",
       "𝙤𝙣         0.000000\n",
       "\n",
       "[6007 rows x 1 columns]"
      ]
     },
     "execution_count": 41,
     "metadata": {},
     "output_type": "execute_result"
    }
   ],
   "source": [
    "# get the vector out (for the document) \n",
    "tfidfvectorizer=tfidf_vectorizer_vectors[0] \n",
    "\n",
    "# place tf-idf values in a pandas data frame \n",
    "df_tfidf = pd.DataFrame(\n",
    "    tfidfvectorizer.T.todense(),\n",
    "    index = tfidf_vectorizer.get_feature_names_out(), \n",
    "    columns = [\"tfidf\"])\n",
    "\n",
    "df_tfidf.sort_values(by = [\"tfidf\"],ascending=False)"
   ]
  },
  {
   "cell_type": "code",
   "execution_count": 42,
   "id": "5284ed32",
   "metadata": {},
   "outputs": [],
   "source": [
    "df['comment_vec'] = df['comment'].apply(lambda x: tfidf_vectorizer.transform([x]))"
   ]
  },
  {
   "cell_type": "code",
   "execution_count": 43,
   "id": "24383e5e",
   "metadata": {},
   "outputs": [],
   "source": [
    "# extract X and Y => X= subject (input), Y = training data (outcome)\n",
    "X = df.drop(['offensive', 'comment_vec','_id'], axis = 1)\n",
    "Y = df['offensive']"
   ]
  },
  {
   "cell_type": "code",
   "execution_count": 44,
   "id": "4a5f9148",
   "metadata": {},
   "outputs": [],
   "source": [
    "X_train, X_test, y_train, y_test = train_test_split(\n",
    "    X, Y, test_size = 0.2, random_state = 125\n",
    ")"
   ]
  },
  {
   "cell_type": "code",
   "execution_count": 45,
   "id": "7b2988b6",
   "metadata": {},
   "outputs": [],
   "source": [
    "X_train_tf = tfidf_vectorizer.fit_transform(X_train.comment)\n",
    "X_test_tf = tfidf_vectorizer.transform(X_test.comment)"
   ]
  },
  {
   "cell_type": "code",
   "execution_count": 46,
   "id": "35d53fb8",
   "metadata": {},
   "outputs": [
    {
     "name": "stdout",
     "output_type": "stream",
     "text": [
      "train time: 0.016s\n"
     ]
    }
   ],
   "source": [
    "# build naive bayes classification model\n",
    "t = time()\n",
    "\n",
    "naive_bayes_classifier = MultinomialNB()\n",
    "naive_bayes_classifier.fit(X_train_tf, y_train)\n",
    "# keep track of training time\n",
    "training_time = time() - t\n",
    "print(\"train time: %0.3fs\" % training_time)"
   ]
  },
  {
   "cell_type": "code",
   "execution_count": 48,
   "id": "460c7a5c",
   "metadata": {
    "scrolled": false
   },
   "outputs": [
    {
     "name": "stdout",
     "output_type": "stream",
     "text": [
      "test time:  0.001s\n",
      "MlMetric(accuracy=0.6744471744471745,\n",
      "         precision=0.8708010335917312,\n",
      "         recall=0.6105072463768116,\n",
      "         specificity=0.8091603053435115,\n",
      "         loss=None,\n",
      "         F1=None,\n",
      "         predictions=None,\n",
      "         labels=None)\n",
      "F1 0.7177848775292864\n"
     ]
    }
   ],
   "source": [
    "# predict the new document from the testing dataset\n",
    "t = time()\n",
    "y_pred_nb = naive_bayes_classifier.predict(X_test_tf)\n",
    "\n",
    "test_time = time() - t\n",
    "print(\"test time:  %0.3fs\" % test_time)\n",
    "\n",
    "ml_metrics = mlu.calculate_ml_metrics(y_test.to_numpy(), y_pred_nb, False)\n",
    "\n",
    "pp.pprint(ml_metrics)\n",
    "\n",
    "print('F1', ml_metrics.calculate_f_score())"
   ]
  },
  {
   "cell_type": "code",
   "execution_count": 49,
   "id": "7bdb4070",
   "metadata": {},
   "outputs": [
    {
     "name": "stdout",
     "output_type": "stream",
     "text": [
      "Confusion matrix for the Naive Bayes\n"
     ]
    },
    {
     "data": {
      "text/plain": [
       "<sklearn.metrics._plot.confusion_matrix.ConfusionMatrixDisplay at 0x28aa43880>"
      ]
     },
     "execution_count": 49,
     "metadata": {},
     "output_type": "execute_result"
    },
    {
     "data": {
      "image/png": "[encoded data removed]",
      "text/plain": [
       "<Figure size 640x480 with 2 Axes>"
      ]
     },
     "metadata": {},
     "output_type": "display_data"
    }
   ],
   "source": [
    "labels = [\"Offensive\", \"Not offensive\"]\n",
    "cm = confusion_matrix(y_test, y_pred_nb)\n",
    "disp = ConfusionMatrixDisplay(confusion_matrix = cm, display_labels = labels)\n",
    "\n",
    "print('Confusion matrix for the Naive Bayes')\n",
    "disp.plot()"
   ]
  },
  {
   "cell_type": "markdown",
   "id": "5f344dea",
   "metadata": {},
   "source": [
    "## The next few steps perform same calculations using Logistic Regression\n"
   ]
  },
  {
   "cell_type": "code",
   "execution_count": 50,
   "id": "a7f9e673",
   "metadata": {},
   "outputs": [
    {
     "name": "stdout",
     "output_type": "stream",
     "text": [
      "train time: 0.038s\n"
     ]
    }
   ],
   "source": [
    "# build naive bayes classification model\n",
    "t = time()\n",
    "\n",
    "logistic_regression_classifier = LogisticRegression()\n",
    "logistic_regression_classifier.fit(X_train_tf, y_train)\n",
    "\n",
    "# keep track of training time\n",
    "training_time = time() - t\n",
    "print(\"train time: %0.3fs\" % training_time)"
   ]
  },
  {
   "cell_type": "code",
   "execution_count": 52,
   "id": "4a0169b8",
   "metadata": {},
   "outputs": [
    {
     "name": "stdout",
     "output_type": "stream",
     "text": [
      "test time:  0.000s\n",
      "MlMetric(accuracy=0.7174447174447175,\n",
      "         precision=0.7260981912144703,\n",
      "         recall=0.6938271604938272,\n",
      "         specificity=0.7408312958435208,\n",
      "         loss=None,\n",
      "         F1=None,\n",
      "         predictions=None,\n",
      "         labels=None)\n",
      "F1 0.7095959595959596\n"
     ]
    }
   ],
   "source": [
    "# predict the new document from the testing dataset\n",
    "t = time()\n",
    "y_pred_lr = logistic_regression_classifier.predict(X_test_tf)\n",
    "\n",
    "test_time = time() - t\n",
    "print(\"test time:  %0.3fs\" % test_time)\n",
    "\n",
    "ml_metrics = mlu.calculate_ml_metrics(y_test.to_numpy(), y_pred_lr, False)\n",
    "\n",
    "pp.pprint(ml_metrics)\n",
    "\n",
    "print('F1', ml_metrics.calculate_f_score())"
   ]
  },
  {
   "cell_type": "code",
   "execution_count": 53,
   "id": "e897f604",
   "metadata": {},
   "outputs": [
    {
     "name": "stdout",
     "output_type": "stream",
     "text": [
      "Confusion matrix for logistic regression\n"
     ]
    },
    {
     "data": {
      "text/plain": [
       "<sklearn.metrics._plot.confusion_matrix.ConfusionMatrixDisplay at 0x28aa438b0>"
      ]
     },
     "execution_count": 53,
     "metadata": {},
     "output_type": "execute_result"
    },
    {
     "data": {
      "image/png": "[encoded data removed]",
      "text/plain": [
       "<Figure size 640x480 with 2 Axes>"
      ]
     },
     "metadata": {},
     "output_type": "display_data"
    }
   ],
   "source": [
    "cm = confusion_matrix(y_test, y_pred_lr)\n",
    "labels = [\"Offensive\", \"Not offensive\"]\n",
    "disp = ConfusionMatrixDisplay(confusion_matrix = cm, display_labels = labels)\n",
    "print('Confusion matrix for logistic regression')\n",
    "disp.plot()"
   ]
  }
 ],
 "metadata": {
  "kernelspec": {
   "display_name": "Python 3 (ipykernel)",
   "language": "python",
   "name": "python3"
  },
  "language_info": {
   "codemirror_mode": {
    "name": "ipython",
    "version": 3
   },
   "file_extension": ".py",
   "mimetype": "text/x-python",
   "name": "python",
   "nbconvert_exporter": "python",
   "pygments_lexer": "ipython3",
   "version": "3.10.9"
  }
 },
 "nbformat": 4,
 "nbformat_minor": 5
}
